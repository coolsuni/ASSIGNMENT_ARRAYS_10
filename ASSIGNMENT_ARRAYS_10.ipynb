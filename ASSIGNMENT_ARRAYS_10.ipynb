{
 "cells": [
  {
   "cell_type": "code",
   "execution_count": 1,
   "id": "b2c0c772-0328-4046-bcc8-fbddc6695c88",
   "metadata": {},
   "outputs": [],
   "source": [
    "#1) Given an array, check if it contains any duplicates or not.\n",
    "\n"
   ]
  },
  {
   "cell_type": "code",
   "execution_count": 46,
   "id": "0b27fa73-7c15-4c5b-b55a-42febb89c879",
   "metadata": {},
   "outputs": [],
   "source": [
    "def dupli(arr):\n",
    "    for i in range(0, len(arr)):  \n",
    "        for j in range(i, len(arr)):  \n",
    "            if(arr[i] == arr[j]):                   #to check for duplicate values\n",
    "                return True\n",
    "            else:\n",
    "                return False"
   ]
  },
  {
   "cell_type": "code",
   "execution_count": 47,
   "id": "d9fa0a92-5983-4915-bcd3-7d86130c1e25",
   "metadata": {},
   "outputs": [],
   "source": [
    "arr=[1,2,4,2,5,9]"
   ]
  },
  {
   "cell_type": "code",
   "execution_count": 55,
   "id": "9bdb28b3-4b12-4527-bdf7-b8895c97f801",
   "metadata": {},
   "outputs": [],
   "source": [
    "output=dupli(arr)"
   ]
  },
  {
   "cell_type": "code",
   "execution_count": 56,
   "id": "05b752a6-f222-4849-8e90-4be6e135ebb4",
   "metadata": {},
   "outputs": [
    {
     "data": {
      "text/plain": [
       "True"
      ]
     },
     "execution_count": 56,
     "metadata": {},
     "output_type": "execute_result"
    }
   ],
   "source": [
    "output"
   ]
  },
  {
   "cell_type": "code",
   "execution_count": 50,
   "id": "71023d71-4355-4861-926e-25d3aa9771c8",
   "metadata": {},
   "outputs": [],
   "source": [
    "#2) Given an array and an integer k, rotate the array to the right by k steps.\n",
    "\n"
   ]
  },
  {
   "cell_type": "code",
   "execution_count": 52,
   "id": "e8c03729-8690-473d-b73f-4617ff95c9b6",
   "metadata": {},
   "outputs": [],
   "source": [
    "def Rotate(a, n, k):\n",
    "\n",
    "\tk = k % n;                                   # if rotation value is greater than array size\n",
    "\tfor i in range(0, n):\n",
    "\t\tif(i < k):\n",
    "\t\t\tprint(a[n + i - k], end = \" \");\n",
    "\t\telse:\n",
    "\t\t\tprint(a[i - k], end = \" \");\n",
    "            \n",
    "\tprint(\"\\n\");"
   ]
  },
  {
   "cell_type": "code",
   "execution_count": 59,
   "id": "a84a0071-7913-4926-86fd-1b0936b8ff1a",
   "metadata": {},
   "outputs": [],
   "source": [
    "a= [ 1,2,3,4,5,6,7 ];\n",
    "N = len(Array);\n",
    "K = 3;"
   ]
  },
  {
   "cell_type": "code",
   "execution_count": 60,
   "id": "2b8e723f-4132-4638-acbc-091e4f776552",
   "metadata": {},
   "outputs": [
    {
     "name": "stdout",
     "output_type": "stream",
     "text": [
      "5 6 7 1 2 3 4 \n",
      "\n"
     ]
    }
   ],
   "source": [
    "output=Rotate(Array, N, K);"
   ]
  },
  {
   "cell_type": "code",
   "execution_count": 58,
   "id": "886508f1-35af-4a31-a568-23c70651c1ff",
   "metadata": {},
   "outputs": [],
   "source": [
    "#3) Reverse the given array in-place, means without using any extra data structure.\n",
    "\n"
   ]
  },
  {
   "cell_type": "code",
   "execution_count": 74,
   "id": "34bd944c-16cc-4978-ab41-3cafca43c6cd",
   "metadata": {},
   "outputs": [],
   "source": [
    "def reverse(A, start, end):\n",
    "    while start < end:\n",
    "        A[start], A[end] = A[end], A[start]\n",
    "        start += 1\n",
    "        end -= 1"
   ]
  },
  {
   "cell_type": "code",
   "execution_count": 79,
   "id": "0b04c9b8-9427-40e9-8029-11aace13503f",
   "metadata": {},
   "outputs": [],
   "source": [
    "A=[2,4,5,7,9,12]\n",
    "reverse(A,0,5)"
   ]
  },
  {
   "cell_type": "code",
   "execution_count": 80,
   "id": "6f5171ef-ad59-41d2-ba02-738998b6a00f",
   "metadata": {},
   "outputs": [
    {
     "name": "stdout",
     "output_type": "stream",
     "text": [
      "reverse list:  [12, 9, 7, 5, 4, 2]\n"
     ]
    }
   ],
   "source": [
    "print('reverse list: ',A)"
   ]
  },
  {
   "cell_type": "code",
   "execution_count": 81,
   "id": "4f602b9d-54c9-4426-853f-38451c75ca33",
   "metadata": {},
   "outputs": [],
   "source": [
    "#4) Given an array of integers, find the maximum element in an array\n",
    "\n"
   ]
  },
  {
   "cell_type": "code",
   "execution_count": 82,
   "id": "045bd301-6f10-4233-9743-846ce520c6e6",
   "metadata": {},
   "outputs": [],
   "source": [
    "def maximum(arr, n):\n",
    "\t\n",
    "\tmx = arr[0]\n",
    "\tfor i in range(1, n):\n",
    "\t\tif arr[i] > mx:\n",
    "\t\t\tmx = arr[i]\n",
    "\n",
    "\treturn mx"
   ]
  },
  {
   "cell_type": "code",
   "execution_count": 83,
   "id": "acead2f3-0514-416e-b75b-9fd5a5cc9b63",
   "metadata": {},
   "outputs": [],
   "source": [
    "arr = [10,5,20,8,15]\n",
    "n = len(arr)"
   ]
  },
  {
   "cell_type": "code",
   "execution_count": 84,
   "id": "d2af0d12-4041-401f-8e4b-5fcf04782a14",
   "metadata": {},
   "outputs": [],
   "source": [
    "output=maximum(arr,n)"
   ]
  },
  {
   "cell_type": "code",
   "execution_count": 85,
   "id": "df00d6c9-d622-4f99-8886-574eb2110a09",
   "metadata": {},
   "outputs": [
    {
     "name": "stdout",
     "output_type": "stream",
     "text": [
      "maximum no. in given array is 20\n"
     ]
    }
   ],
   "source": [
    "print(\"maximum no. in given array is\", output)"
   ]
  },
  {
   "cell_type": "code",
   "execution_count": 86,
   "id": "8407f643-f831-420a-bf1e-fa48adef0e13",
   "metadata": {},
   "outputs": [],
   "source": [
    "#5) Given a sorted array, remove the duplicate element without using any extra data structure.\n",
    "\n"
   ]
  },
  {
   "cell_type": "code",
   "execution_count": 138,
   "id": "c81b1a81-b844-4cdf-8fb2-c27fcdd35bdc",
   "metadata": {},
   "outputs": [],
   "source": [
    "arr= [1,1,2,2,2,3,3,4,4,4,5,5]"
   ]
  },
  {
   "cell_type": "code",
   "execution_count": 139,
   "id": "fcb56200-8b02-4163-af74-6cc4f8540dce",
   "metadata": {},
   "outputs": [],
   "source": [
    "my_set= set(arr)"
   ]
  },
  {
   "cell_type": "code",
   "execution_count": 141,
   "id": "1ba460be-f2a1-4d10-9540-107ff9f00e99",
   "metadata": {},
   "outputs": [
    {
     "name": "stdout",
     "output_type": "stream",
     "text": [
      "The array after removing duplicates :  {1, 2, 3, 4, 5}\n"
     ]
    }
   ],
   "source": [
    "print (\"The array after removing duplicates : \",my_set)"
   ]
  },
  {
   "cell_type": "code",
   "execution_count": null,
   "id": "470037a4-6ca2-406b-afed-db0b350a7a56",
   "metadata": {},
   "outputs": [],
   "source": []
  },
  {
   "cell_type": "code",
   "execution_count": null,
   "id": "6f6eb978-a71e-42ea-983d-a63b96f2164f",
   "metadata": {},
   "outputs": [],
   "source": []
  }
 ],
 "metadata": {
  "kernelspec": {
   "display_name": "Python 3 (ipykernel)",
   "language": "python",
   "name": "python3"
  },
  "language_info": {
   "codemirror_mode": {
    "name": "ipython",
    "version": 3
   },
   "file_extension": ".py",
   "mimetype": "text/x-python",
   "name": "python",
   "nbconvert_exporter": "python",
   "pygments_lexer": "ipython3",
   "version": "3.10.6"
  }
 },
 "nbformat": 4,
 "nbformat_minor": 5
}
